{
  "nbformat": 4,
  "nbformat_minor": 0,
  "metadata": {
    "colab": {
      "provenance": []
    },
    "kernelspec": {
      "name": "python3",
      "display_name": "Python 3"
    },
    "language_info": {
      "name": "python"
    }
  },
  "cells": [
    {
      "cell_type": "code",
      "execution_count": 21,
      "metadata": {
        "id": "ery-8shkCQkE"
      },
      "outputs": [],
      "source": [
        "def bfs(graph, start):\n",
        "    visited = []\n",
        "    queue = [start]\n",
        "\n",
        "    while queue:\n",
        "        node = queue.pop(0)\n",
        "        if node not in visited:\n",
        "            visited.append(node)\n",
        "            neighbours = graph[node]\n",
        "            for neighbour in neighbours:\n",
        "                queue.append(neighbour)\n",
        "    return visited"
      ]
    },
    {
      "cell_type": "code",
      "source": [
        "graph={ 'Amin' : {'Wasim', 'Nick', 'Mike'},\n",
        "       'Wasim' : {'Imran', 'Amin'},\n",
        "       'Imran' : {'Wasim', 'Faras'},\n",
        "       'Faras' : {'Imran'},\n",
        "       'Mike' : {'Amin'},\n",
        "       'Nick' : {'Amin'}}"
      ],
      "metadata": {
        "id": "iy8ZvQmc_7Si"
      },
      "execution_count": 22,
      "outputs": []
    },
    {
      "cell_type": "code",
      "source": [
        "#O amin -------------\n",
        "#|          |        |\n",
        "#O wasim    O nick   O mike\n",
        "#|\n",
        "#O imran\n",
        "#|\n",
        "#O faras\n",
        "\n",
        "bfs(graph,'Amin')"
      ],
      "metadata": {
        "colab": {
          "base_uri": "https://localhost:8080/"
        },
        "id": "VIO28m_KA8ZK",
        "outputId": "e2b280bf-e8fe-4193-8005-529020f4e801"
      },
      "execution_count": 27,
      "outputs": [
        {
          "output_type": "execute_result",
          "data": {
            "text/plain": [
              "['Amin', 'Nick', 'Wasim', 'Mike', 'Imran', 'Faras']"
            ]
          },
          "metadata": {},
          "execution_count": 27
        }
      ]
    },
    {
      "cell_type": "code",
      "source": [
        "#O wasim ----\n",
        "#|          |        \n",
        "#O imran    O amin ----   \n",
        "#|          |          |\n",
        "#O faras    O nick      O mike\n",
        "\n",
        "bfs(graph,'Wasim')"
      ],
      "metadata": {
        "colab": {
          "base_uri": "https://localhost:8080/"
        },
        "id": "AGL7oh0QC5P5",
        "outputId": "c29e850f-70c6-4853-bc08-73bb1b74e16c"
      },
      "execution_count": 24,
      "outputs": [
        {
          "output_type": "execute_result",
          "data": {
            "text/plain": [
              "['Wasim', 'Amin', 'Imran', 'Nick', 'Mike', 'Faras']"
            ]
          },
          "metadata": {},
          "execution_count": 24
        }
      ]
    },
    {
      "cell_type": "code",
      "source": [
        "#O faras\n",
        "#|               \n",
        "#O imran    \n",
        "#|          \n",
        "#O wasim    O nick      O mike\n",
        "#|          |           |\n",
        "#O amin ----------------\n",
        "\n",
        "bfs(graph,'Faras')"
      ],
      "metadata": {
        "colab": {
          "base_uri": "https://localhost:8080/"
        },
        "id": "ThmVt-QEC8kz",
        "outputId": "486e6420-e6c8-42b9-f398-5c6365068acd"
      },
      "execution_count": 25,
      "outputs": [
        {
          "output_type": "execute_result",
          "data": {
            "text/plain": [
              "['Faras', 'Imran', 'Wasim', 'Amin', 'Nick', 'Mike']"
            ]
          },
          "metadata": {},
          "execution_count": 25
        }
      ]
    },
    {
      "cell_type": "code",
      "source": [
        "graph={'Rektor' : {'Warek 1', 'Warek 2'},\n",
        "       'Warek 1' : {'Rektor'},\n",
        "       'Warek 2' : {'Kaprodi 1', 'Kaprodi 2', 'Kaprodi 3'},\n",
        "       'Kaprodi 1' : {'Dosen A', 'Dosen B', 'Dosen C'},\n",
        "       'Kaprodi 2' : {'Dosen D', 'Dosen E'},\n",
        "       'Kaprodi 3' : {'Dosen F', 'Dosen G'},\n",
        "       'Dosen G'   : {'Dosen F'},\n",
        "       'Dosen E'  : {'Dosen D'},\n",
        "       'Dosen C'  : {'Dosen B'},\n",
        "       'Dosen B'  : {'Dosen A'},\n",
        "       'Dosen A'  : {'Kaprodi 1'},\n",
        "       'Dosen D'  : {'Kaprodi 2'},\n",
        "       'Dosen F'  : {'Kaprodi 3'}}"
      ],
      "metadata": {
        "id": "cQWX4x_AG-tw"
      },
      "execution_count": 58,
      "outputs": []
    },
    {
      "cell_type": "code",
      "source": [
        "bfs(graph,'Rektor')"
      ],
      "metadata": {
        "colab": {
          "base_uri": "https://localhost:8080/"
        },
        "id": "VhlfNat3Ikem",
        "outputId": "d5443f44-7c35-4aef-f1d2-d25e82d03dab"
      },
      "execution_count": 59,
      "outputs": [
        {
          "output_type": "execute_result",
          "data": {
            "text/plain": [
              "['Rektor',\n",
              " 'Warek 2',\n",
              " 'Warek 1',\n",
              " 'Kaprodi 1',\n",
              " 'Kaprodi 2',\n",
              " 'Kaprodi 3',\n",
              " 'Dosen C',\n",
              " 'Dosen B',\n",
              " 'Dosen A',\n",
              " 'Dosen E',\n",
              " 'Dosen D',\n",
              " 'Dosen F',\n",
              " 'Dosen G']"
            ]
          },
          "metadata": {},
          "execution_count": 59
        }
      ]
    },
    {
      "cell_type": "code",
      "source": [
        "bfs(graph,'Warek 1')"
      ],
      "metadata": {
        "colab": {
          "base_uri": "https://localhost:8080/"
        },
        "id": "v0g0Qoz8OULP",
        "outputId": "fb6c096e-1536-46be-db56-e751f47360e8"
      },
      "execution_count": 60,
      "outputs": [
        {
          "output_type": "execute_result",
          "data": {
            "text/plain": [
              "['Warek 1',\n",
              " 'Rektor',\n",
              " 'Warek 2',\n",
              " 'Kaprodi 1',\n",
              " 'Kaprodi 2',\n",
              " 'Kaprodi 3',\n",
              " 'Dosen C',\n",
              " 'Dosen B',\n",
              " 'Dosen A',\n",
              " 'Dosen E',\n",
              " 'Dosen D',\n",
              " 'Dosen F',\n",
              " 'Dosen G']"
            ]
          },
          "metadata": {},
          "execution_count": 60
        }
      ]
    },
    {
      "cell_type": "code",
      "source": [
        "def dfs(graph, start, visited=None):\n",
        "    if visited is None:\n",
        "        visited = set()\n",
        "    visited.add(start)\n",
        "    print(start)\n",
        "    for next in graph[start] - visited:\n",
        "          dfs(graph, next, visited)\n",
        "    return visited"
      ],
      "metadata": {
        "id": "hz_eB6G5RqBH"
      },
      "execution_count": 61,
      "outputs": []
    },
    {
      "cell_type": "code",
      "source": [
        "graph={ 'Amin' : {'Wasim', 'Nick', 'Mike'},\n",
        "          'Wasim' : {'Imran', 'Amin'},\n",
        "          'Imran' : {'Wasim', 'Faras'},\n",
        "          'Faras' : {'Imran'},\n",
        "          'Mike' :{'Amin'},\n",
        "          'Nick' :{'Amin'}}"
      ],
      "metadata": {
        "id": "KhlJeIKtSQTD"
      },
      "execution_count": 65,
      "outputs": []
    },
    {
      "cell_type": "code",
      "source": [
        "#O amin -------------\n",
        "#|          |        |\n",
        "#O wasim    O nick   O mike\n",
        "#|\n",
        "#O imran\n",
        "#|\n",
        "#O faras\n",
        "#\n",
        "#turun dari amin ke faras, geser ke nick & mike\n",
        "\n",
        "dfs(graph, 'Amin')"
      ],
      "metadata": {
        "colab": {
          "base_uri": "https://localhost:8080/"
        },
        "id": "0SOazge-SXEf",
        "outputId": "b62cb5ef-eb2c-4822-aeb7-5119c8b24914"
      },
      "execution_count": 66,
      "outputs": [
        {
          "output_type": "stream",
          "name": "stdout",
          "text": [
            "Amin\n",
            "Nick\n",
            "Wasim\n",
            "Imran\n",
            "Faras\n",
            "Mike\n"
          ]
        },
        {
          "output_type": "execute_result",
          "data": {
            "text/plain": [
              "{'Amin', 'Faras', 'Imran', 'Mike', 'Nick', 'Wasim'}"
            ]
          },
          "metadata": {},
          "execution_count": 66
        }
      ]
    },
    {
      "cell_type": "code",
      "source": [
        "#O amin -------------\n",
        "#|          |        |\n",
        "#O wasim    O nick   O mike\n",
        "#|\n",
        "#O imran\n",
        "#|\n",
        "#O faras\n",
        "#turun dari wasim ke faras, naik ke amin, geser ke nick & mike\n",
        "\n",
        "dfs(graph, 'Wasim')"
      ],
      "metadata": {
        "colab": {
          "base_uri": "https://localhost:8080/"
        },
        "id": "yTYCzRHLTe-9",
        "outputId": "2a17ef7d-32a4-490b-ae46-f36a4276148c"
      },
      "execution_count": 67,
      "outputs": [
        {
          "output_type": "stream",
          "name": "stdout",
          "text": [
            "Wasim\n",
            "Amin\n",
            "Nick\n",
            "Mike\n",
            "Imran\n",
            "Faras\n"
          ]
        },
        {
          "output_type": "execute_result",
          "data": {
            "text/plain": [
              "{'Amin', 'Faras', 'Imran', 'Mike', 'Nick', 'Wasim'}"
            ]
          },
          "metadata": {},
          "execution_count": 67
        }
      ]
    },
    {
      "cell_type": "code",
      "source": [
        "#O amin -------------\n",
        "#|          |        |\n",
        "#O wasim    O nick   O mike\n",
        "#|\n",
        "#O imran\n",
        "#|\n",
        "#faras\n",
        "#naik dari faras ke amin, geser ke nick & mike\n",
        "\n",
        "dfs(graph, 'Faras')"
      ],
      "metadata": {
        "colab": {
          "base_uri": "https://localhost:8080/"
        },
        "id": "ksW2ifTCTl0j",
        "outputId": "1188945e-4e69-4e98-bc22-d1b806ea0abf"
      },
      "execution_count": 68,
      "outputs": [
        {
          "output_type": "stream",
          "name": "stdout",
          "text": [
            "Faras\n",
            "Imran\n",
            "Wasim\n",
            "Amin\n",
            "Nick\n",
            "Mike\n"
          ]
        },
        {
          "output_type": "execute_result",
          "data": {
            "text/plain": [
              "{'Amin', 'Faras', 'Imran', 'Mike', 'Nick', 'Wasim'}"
            ]
          },
          "metadata": {},
          "execution_count": 68
        }
      ]
    },
    {
      "cell_type": "code",
      "source": [
        "#O amin -------------\n",
        "#|          |        |\n",
        "#O wasim    O nick   O mike\n",
        "#|\n",
        "#O imran\n",
        "#|\n",
        "#faras\n",
        "#naik nick ke amin, turun ke faras, geser ke mike\n",
        "\n",
        "dfs(graph, 'Nick')"
      ],
      "metadata": {
        "colab": {
          "base_uri": "https://localhost:8080/"
        },
        "id": "gBzBd4VNTozY",
        "outputId": "9b57c341-39a3-46f6-ef28-915031d93978"
      },
      "execution_count": 69,
      "outputs": [
        {
          "output_type": "stream",
          "name": "stdout",
          "text": [
            "Nick\n",
            "Amin\n",
            "Wasim\n",
            "Imran\n",
            "Faras\n",
            "Mike\n"
          ]
        },
        {
          "output_type": "execute_result",
          "data": {
            "text/plain": [
              "{'Amin', 'Faras', 'Imran', 'Mike', 'Nick', 'Wasim'}"
            ]
          },
          "metadata": {},
          "execution_count": 69
        }
      ]
    },
    {
      "cell_type": "code",
      "source": [
        "graph={'Rektor' : {'Warek 1', 'Warek 2'},\n",
        "       'Warek 1' : {'Rektor'},\n",
        "       'Warek 2' : {'Kaprodi 1', 'Kaprodi 2', 'Kaprodi 3'},\n",
        "       'Kaprodi 1' : {'Dosen A', 'Dosen B', 'Dosen C'},\n",
        "       'Kaprodi 2' : {'Dosen D', 'Dosen E'},\n",
        "       'Kaprodi 3' : {'Dosen F', 'Dosen G'},\n",
        "       'Dosen G'   : {'Dosen F'},\n",
        "       'Dosen E'  : {'Dosen D'},\n",
        "       'Dosen C'  : {'Dosen B'},\n",
        "       'Dosen B'  : {'Dosen A'},\n",
        "       'Dosen A'  : {'Kaprodi 1'},\n",
        "       'Dosen D'  : {'Kaprodi 2'},\n",
        "       'Dosen F'  : {'Kaprodi 3'}}"
      ],
      "metadata": {
        "id": "l6Uv5He2VIYu"
      },
      "execution_count": 70,
      "outputs": []
    },
    {
      "cell_type": "code",
      "source": [
        "dfs(graph, 'Rektor')"
      ],
      "metadata": {
        "colab": {
          "base_uri": "https://localhost:8080/"
        },
        "id": "a8ULq7IlVNyl",
        "outputId": "cdea127d-a331-48ef-879f-068937eb1f8c"
      },
      "execution_count": 71,
      "outputs": [
        {
          "output_type": "stream",
          "name": "stdout",
          "text": [
            "Rektor\n",
            "Warek 2\n",
            "Kaprodi 1\n",
            "Dosen C\n",
            "Dosen B\n",
            "Dosen A\n",
            "Dosen B\n",
            "Dosen A\n",
            "Kaprodi 2\n",
            "Dosen E\n",
            "Dosen D\n",
            "Dosen D\n",
            "Kaprodi 3\n",
            "Dosen F\n",
            "Dosen G\n",
            "Warek 1\n"
          ]
        },
        {
          "output_type": "execute_result",
          "data": {
            "text/plain": [
              "{'Dosen A',\n",
              " 'Dosen B',\n",
              " 'Dosen C',\n",
              " 'Dosen D',\n",
              " 'Dosen E',\n",
              " 'Dosen F',\n",
              " 'Dosen G',\n",
              " 'Kaprodi 1',\n",
              " 'Kaprodi 2',\n",
              " 'Kaprodi 3',\n",
              " 'Rektor',\n",
              " 'Warek 1',\n",
              " 'Warek 2'}"
            ]
          },
          "metadata": {},
          "execution_count": 71
        }
      ]
    }
  ]
}